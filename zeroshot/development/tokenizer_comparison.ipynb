{
 "cells": [
  {
   "cell_type": "markdown",
   "id": "ee5923ef-fbfb-4116-a5d9-5efb6fcae4b4",
   "metadata": {},
   "source": [
    "# Tokenizer test\n",
    "\n",
    "Testing the difference between WordPiece and BPE tokenizer. "
   ]
  },
  {
   "cell_type": "code",
   "execution_count": 1,
   "id": "572c166b-2f01-4428-bd9c-4c17f8e5741b",
   "metadata": {},
   "outputs": [],
   "source": [
    "import transformers\n",
    "MODEL_NAME1=\"TurkuNLP/bert-base-finnish-cased-v1\"\n",
    "MODEL_NAME2 = \"xlm-roberta-base\"\n"
   ]
  },
  {
   "cell_type": "code",
   "execution_count": 2,
   "id": "9517774e-3e6d-42e9-8de3-485f7b5eed69",
   "metadata": {},
   "outputs": [],
   "source": [
    "tokenizer1 = transformers.AutoTokenizer.from_pretrained(MODEL_NAME1)\n",
    "tokenizer2 = transformers.AutoTokenizer.from_pretrained(MODEL_NAME2)"
   ]
  },
  {
   "cell_type": "code",
   "execution_count": 3,
   "id": "cf5a1c86-63ff-4d89-b5ab-dbb3a8f7bf36",
   "metadata": {},
   "outputs": [],
   "source": [
    "text = \"Moi, olen Amanda, mulle voit laittaa viestiä osoitteeseen example@outlook.com\""
   ]
  },
  {
   "cell_type": "code",
   "execution_count": 5,
   "id": "1021c80c-28d6-4d0d-a272-ad0f1e189e1a",
   "metadata": {},
   "outputs": [
    {
     "data": {
      "text/plain": [
       "['[CLS]',\n",
       " 'Moi',\n",
       " ',',\n",
       " 'olen',\n",
       " 'Aman',\n",
       " '##da',\n",
       " ',',\n",
       " 'mulle',\n",
       " 'voit',\n",
       " 'laittaa',\n",
       " 'viestiä',\n",
       " 'osoitteeseen',\n",
       " 'ex',\n",
       " '##am',\n",
       " '##ple',\n",
       " '@',\n",
       " 'out',\n",
       " '##lo',\n",
       " '##ok',\n",
       " '.',\n",
       " 'com',\n",
       " '[SEP]']"
      ]
     },
     "execution_count": 5,
     "metadata": {},
     "output_type": "execute_result"
    }
   ],
   "source": [
    "tokenizer1.convert_ids_to_tokens(tokenizer1(text)[\"input_ids\"])"
   ]
  },
  {
   "cell_type": "code",
   "execution_count": 6,
   "id": "8e5bdba8-73a3-42da-ba47-6bd0a590dcaa",
   "metadata": {},
   "outputs": [
    {
     "data": {
      "text/plain": [
       "['<s>',\n",
       " '▁Moi',\n",
       " ',',\n",
       " '▁olen',\n",
       " '▁Amanda',\n",
       " ',',\n",
       " '▁mulle',\n",
       " '▁voit',\n",
       " '▁laittaa',\n",
       " '▁viesti',\n",
       " 'ä',\n",
       " '▁osoitteeseen',\n",
       " '▁example',\n",
       " '@',\n",
       " 'outlook',\n",
       " '.',\n",
       " 'com',\n",
       " '</s>']"
      ]
     },
     "execution_count": 6,
     "metadata": {},
     "output_type": "execute_result"
    }
   ],
   "source": [
    "tokenizer2.convert_ids_to_tokens(tokenizer2(text)[\"input_ids\"])"
   ]
  },
  {
   "cell_type": "markdown",
   "id": "584c85bc-0cec-4a5c-8c4d-542f53c98e8a",
   "metadata": {},
   "source": [
    "## Conclusion:\n",
    "\n",
    "=> punctuation handled differently between the continuation markers. Roberta (BPE) requires separation of punctuation."
   ]
  },
  {
   "cell_type": "code",
   "execution_count": null,
   "id": "75f9be8d-3e79-4890-aba1-a370fdcbb40c",
   "metadata": {},
   "outputs": [],
   "source": []
  }
 ],
 "metadata": {
  "kernelspec": {
   "display_name": "Python 3 (ipykernel)",
   "language": "python",
   "name": "python3"
  },
  "language_info": {
   "codemirror_mode": {
    "name": "ipython",
    "version": 3
   },
   "file_extension": ".py",
   "mimetype": "text/x-python",
   "name": "python",
   "nbconvert_exporter": "python",
   "pygments_lexer": "ipython3",
   "version": "3.9.18"
  }
 },
 "nbformat": 4,
 "nbformat_minor": 5
}
