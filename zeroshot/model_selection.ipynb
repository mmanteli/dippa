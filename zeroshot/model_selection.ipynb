{
 "cells": [
  {
   "cell_type": "markdown",
   "id": "4af7bea1-a8a2-4fc2-9853-817843ac4d8a",
   "metadata": {},
   "source": [
    "# listing some models to choose from\n"
   ]
  },
  {
   "cell_type": "markdown",
   "id": "4121f993-d9ae-4453-9e15-dc34bb7439c5",
   "metadata": {},
   "source": [
    "https://huggingface.co/allenai/biomed_roberta_base\n",
    "\n",
    "https://huggingface.co/beatrice-portelli/DiLBERT\n"
   ]
  },
  {
   "cell_type": "code",
   "execution_count": null,
   "id": "ed5e8e4d-91b0-4450-b238-0ec130120fc8",
   "metadata": {},
   "outputs": [],
   "source": []
  }
 ],
 "metadata": {
  "kernelspec": {
   "display_name": "Python 3 (ipykernel)",
   "language": "python",
   "name": "python3"
  },
  "language_info": {
   "codemirror_mode": {
    "name": "ipython",
    "version": 3
   },
   "file_extension": ".py",
   "mimetype": "text/x-python",
   "name": "python",
   "nbconvert_exporter": "python",
   "pygments_lexer": "ipython3",
   "version": "3.9.18"
  }
 },
 "nbformat": 4,
 "nbformat_minor": 5
}
