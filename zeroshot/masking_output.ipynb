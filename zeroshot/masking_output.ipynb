{
 "cells": [
  {
   "cell_type": "code",
   "execution_count": 1,
   "id": "f94bc27b-c01e-4348-b25e-56b502fff443",
   "metadata": {},
   "outputs": [],
   "source": [
    "from piimasker import PiiMasker\n",
    "import numpy as np\n",
    "from cosine_similarity import find_best_cosine_match\n",
    "import transformers"
   ]
  },
  {
   "cell_type": "code",
   "execution_count": 2,
   "id": "a6020b9a-2397-4b0e-954e-2f17c07e0fc9",
   "metadata": {},
   "outputs": [],
   "source": [
    "MODEL_NAME=\"TurkuNLP/bert-base-finnish-cased-v1\"\n",
    "tokenizer = transformers.AutoTokenizer.from_pretrained(MODEL_NAME)\n",
    "model = transformers.AutoModelForPreTraining.from_pretrained(MODEL_NAME)\n",
    "\n",
    "pf = PiiMasker(model, tokenizer, 1e-4, use_context=True, tokenizer_type=\"WordPiece\")\n"
   ]
  },
  {
   "cell_type": "code",
   "execution_count": 13,
   "id": "518a498f-56c5-4501-923c-922d316e1333",
   "metadata": {},
   "outputs": [],
   "source": [
    "text = \"Moi, olen Amanda, mulle voit laittaa viestiä osoitteeseen amanda@outlook.com. Minulle voi myös soittaa.\"\n",
    "output = pf.find_pii(text)"
   ]
  },
  {
   "cell_type": "code",
   "execution_count": 14,
   "id": "7d36c462-f27f-4d6e-a8bd-992a44146514",
   "metadata": {},
   "outputs": [
    {
     "name": "stdout",
     "output_type": "stream",
     "text": [
      "{'decoded_text': '[CLS] Moi, olen Amanda, mulle voit laittaa viestiä osoitteeseen amanda @ outlook. com. Minulle voi myös soittaa. [SEP]', 'to_redact_indices': [[4, 5], [12, 13, 14], [16, 17, 18]], 'to_redact_words': [['Aman', '##da'], ['am', '##and', '##a'], ['out', '##lo', '##ok']], 'predictions': [[['ihan', 'kiinnostunut', 'jo', 'täällä', 'myös', 'siis', 'varasi', 'aivan', 'asiakaspalvelu', 'tosi', 'vasta', 'Hei', 'anonyy', 'juuri', 'aloitteli', 'nyt', 'uusi', 'Jenni', 'Moi', 'itse', 'yksi', 'siellä', 'nuori', 'saman', 'lähdössä', 'blogi', 'Mai', 'todella', 'tyttö', 'tamper', 'pääkaupunkise', 'perhee', 'muuttamassa', 'mess', 'samassa', 'Tiia', 'samaa', 'oul', 'loma', 'Ki', 'sun', 'varattu', 'äitiys', 'naispuol', 'aika', 'netti', 'varat', 'tulossa', 'helsing', 'menossa', 'vain', 'kyseli', 'Salla', 'hei', 'nainen', 'Sus', 'turkula', 'por', 'Minna', 'mukana', 'nais', 'Henna', 'mies', 'mail', 'tamperela', 'pian', 'tässä', 'muuten', 'kaas', 'sen', 'Eli', 'Outi', 'työ', 'tii', 'löytänyt', 'sähköposti', 'Tiina', 'Juu', 'au', 'ensikerta', 'lukijan', 'erittäin', 'Te', 'kirjoittanut', 'vailla', '24', 'ja', 'mar', 'Min', 'vanta', 'vielä', 'kirjeenvaih', 'kuu', 'lähettänyt', 'pir', 'An', 'allekirjoitta', 'muuttanut', 'sama', 'täältä'], ['sisko', 'takana', 'äiti', 'tytär', 'kanssa', 'poika', 'tyttö', 'fani', 'kirjoittaja', 'jäsen', 'mies', 'omistaja', 'nainen', 'Jenni', 'veli', '##da', 'ystävä', 'vaimo', 'Elli', 'kaveri', 'serkku', '##o', 'Kaisa', 'setä', 'Anna', 'Hei', 'täti', '##i', 'Elina', 'luona', 'Mäntylä', 'tyttöystävä', 'lapsi', '##e', '##a', 'Ilona', 'isä', 'Heidi', 'kannattaja', 'tarpeessa', 'seudulta', '##ette', '[UNK]', 'alla', 'nimi', 'Laura', 'edustaja', 'Jenna', 'puolella', 'Linda', 'perustaja', 'aloittaja', 'kasvatti', 'itse', 'lähettyvillä', 'Jones', 'käyttäjä', 'opiskelija', 'haussa', 'näköinen', 'vanhempi', 'lähellä', 'Anne', 'alku', 'hoitaja', 'mukana', 'Kim', 'sisar', 'Anu', 'Julia', 'A', 'sihteeri', 'vieressä', '##ja', 'valmentaja', 'asemassa', '##ta', 'ikäinen', 'Ali', 'Noora', 'Johanna', 'minä', 'Maija', 'Maria', 'Helsingistä', 'Taina', 'nuorempi', 'morsian', 'Marja', 'asukas', 'Mona', 'Helmi', 'toimittaja', 'päähenkilö', 'vanhin', 'puolesta', 'kans', 'sukua', 'Hanna', 'edessä']], [['w', 'j', 'mar', 'an', 'mi', 'c', 'g', 'i', 'ma', 'y', 'pa', 'han', 'sun', 'ra', 's', 'ti', 'san', 'sp', 'z', 'a', 'out', 'le', 'f', 'jaa', 'h', 'u', 'ar', 'pe', 'ni', 'b', 'jo', 'x', 'm', 'e', 'ta', 'se', 'sc', 'pet', 'ja', 'n', 'hen', 'ad', 'fa', 'rus', ':', 'q', 'au', 'ca', 'jan', 'my', 'la', 'mir', 'ju', 'ka', 'da', 'em', 'fi', 'mo', 'jar', 'ro', 'pen', 'sam', 'min', 'pir', 'k', 'ty', 'te', 'is', 'man', 'ir', 'ch', 'ge', 'pi', 'o', 'art', 'iki', 'lin', 'sa', 'am', 'tom', 't', 'mik', 'jus', 'bo', 'hy', 'hem', 'in', 'en', 'kar', 'sus', 'johan', 'kat', 'ai', 'ha', 'lo', 'sk', 'ly', 'per', 'de', 'ann'], ['.', '-', '_', '/', ':', '@', 'am', \"'\", ',', '##a', 'an', 'ja', '##oc', '##am', '##n', '&', 'a', '##er', '##ia', '=', 'at', '##on', 'w', 'i', '##re', 'is', 'o', 'and', '(', '##i', '##ev', '##ea', 'c', '##ipp', '##eb', '##in', 'mar', 'ar', '##ak', 'in', '+', '##ian', 'n', 'j', '##an', 'y', 'tai', '##ah', '##ec', '##io', ')', '##ic', 'arj', '##en', '##ie', '##ir', 'ät', '##ta', '##ro', '##iam', '##el', '##lin', 'the', '##r', '##as', 'eli', 'im', 'r', '##ou', '##ur', 'os', '##and', '##we', '##ion', 'ste', 'mir', 'ut', 'ik', '##ill', '##of', '##if', '##hil', '##ora', '##o', '##e', 'e', 'or', 'h', 'se', '##li', 'tin', 'au', '##ne', '##elo', '##us', '##lo', 'of', 'de', 'ist', 'ri'], ['##a', '##o', '##i', '##on', '##s', '##e', '##er', '##y', '##ia', '##and', '##in', '##n', '##am', '##land', '##son', '##an', '##1', '##t', '##en', '##2', '##u', '##h', '##3', '.', '##k', '##ist', '##ki', '##b', '##d', '##man', '##r', '##g', '##le', '##ing', '##es', '##c', '##ed', '##ion', '##re', '_', '##io', '##m', '##us', '##f', '##il', '##ian', '##so', '##or', '##la', '##ah', '##z', '##ers', '##el', '##al', '##ne', '##ar', '##ti', '##ly', '##as', '##ra', '##ko', '##ea', '##iam', '##ma', '##6', '##om', '##0', '##ry', '##8', '##esto', '##ctor', '##is', '##p', '##ta', '##ka', '##4', '##l', '##ius', '##ato', '##back', '##x', '##5', '##to', '##si', '##lin', '##go', '##ie', '##os', '##ir', '##sa', '##ni', '##ro', '##ox', '##it', '##che', '##ter', '##oa', '##cy', '##ic', '##ch']], [['y', 'wor', 'b', 'out', 'sun', 'gmail', 'hotmail', 'j', 'w', 'g', 'posti', 'ad', 'c', 'bit', 'mic', 'saa', 'sur', 'mys', 'netti', 'em', 'free', 'tin', 'im', 'live', 'koti', 'sp', 'blo', 'my', 'red', 'ly', 'ms', 'pah', 'piste', 'web', 'mun', 'vi', 'ota', 'luukku', 'fa', 'r', 'am', 's', 'uusi', 'mo', 'a', 'net', 'tum', 'is', 'ser', 'm', 'i', 'n', 'windows', 'noki', 'off', 'go', 'dna', 'l', 'nero', 'super', 'sk', 't', 'gu', 'pain', 'one', 'voi', 'ni', 'fl', 'ins', 'nin', 'ava', 'suomi', 'h', 'ever', 'back', 'yks', 'just', 'for', 'da', 'ge', 'hell', 'Word', 'in', 'sähköposti', 'down', 'yksi', 'tele', 'fac', 'tri', 'google', 'big', 'kaks', 'p', 'dr', 'z', 'sho', 'han', 'spa', 'f', 'lang'], ['##ah', '##dp', '##a', '##to', '##we', '##na', '##sa', '##oo', '##sho', '##on', '##ou', '##ic', '##s', '##oc', '##ta', '##ur', '##ov', '##lo', '##blo', '##rea', '##pa', '##suom', '##in', '##ressi', '##ren', '##ipp', '##str', '##so', '##no', '##tar', '##n', '##t', '##hot', '##wor', '##b', '##bo', '##oto', '##rit', '##ota', '##rosof', '##sh', '##ba', '##yp', '##okin', '##boo', '##op', '##od', '##pen', '##gra', '##sta', '##kut', '##cor', '##o', '##cros', '##our', '##and', '##ro', '##el', '##ona', '##ii', '##bas', '##sp', '##aa', '##fa', '##ie', '##nt', '##hal', '##re', '##y', '##ista', '##ypi', '##tom', '##oman', '##ra', '##ri', '##ec', '##ce', '##ak', '##onl', '##pi', '##su', '##che', '##sur', '.', '##oa', '##as', '##ide', '##pea', '##ena', '##oma', '##ma', '##ile', '##loma', '##vat', '##las', '##za', '##la', '-', '##om', '##oi'], ['##oo', '##ir', '##ok', '##kero', '##ress', '##il', '##ck', '##s', '##on', '##o', '##d', '##y', '##b', '##ide', '##ve', '##x', '##ce', '##op', '##m', '##ver', '##p', '##up', '##k', '##r', '##cks', '##ppi', '##id', '##l', '##ot', '##ard', '##er', '##pp', '##ike', '##ud', '##ct', '##i', '##t', '##post', '##que', '##ite', '##om', '##u', '##vine', '##gs', '##c', '##ff', '##g', '##st', '##ur', '##ote', '##ii', '##kki', '##fo', '##ons', '##me', '##mer', '##hto', '##ks', '##ke', '##e', '##bs', '##od', '##pe', '##el', '##box', '##go', '##one', '##sh', '##re', '##ge', '##by', '##us', '##de', '##ital', '##w', '##bi', '##ire', '##bb', '##blo', '##in', '##cket', '##ro', '##yle', '##ger', '##ivo', '##isi', '##po', '##und', '##hot', '##da', '##pen', '##ze', 'gmail', '##ort', '##ppula', '##per', '##je', '##et', '##ppu', '##ou']]], 'context': [[12, 13, 14], [4, 5], []]}\n"
     ]
    }
   ],
   "source": [
    "print(output)"
   ]
  },
  {
   "cell_type": "code",
   "execution_count": 5,
   "id": "69f9fa8f-cdaa-4709-8b8c-23ead99cfcde",
   "metadata": {},
   "outputs": [
    {
     "name": "stdout",
     "output_type": "stream",
     "text": [
      "[12, 13, 14]\n",
      "[4, 5]\n",
      "['am', '##and', '##a']\n",
      "[['j', 'mar', 'w', 'an', 'am', 'Aman', 'san', 'c', 'sun', 'ra', 'y', 'q', 'da', 'pa', 'ba', 'ad', 'b', 'is', 'jen', 'hei', 'h', 'ai', 'f', 'g', 'jaa', 'se', 'rus', 'han', 'ar', 'ja', 'le', 'mi', 'johan', 'jo', 'sam', 'lo', 'a', 'i', 'lah', 'mer', 'ma', 'id', 'u', 'fi', 'satu', 'e', ':', 'il', 'x', 'miss', 'jan', 'hem', 'hy', 'ann', 'es', 'ty', 'don', 'ka', 'ca', 'hen', 'pan', 'man', 'ee', 'iki', 's', 'ge', 'na', 'va', 'ras', 'ham', 'de', 'jar', 'wan', 'tom', 'wa', 'her', 'che', 'lau', 'au', 'mika', 'm', 'sc', 'ger', 'ab', 'em', 'ri', 'sus', 'sp', 'ju', 'kil', 'tii', 'ha', 'pikku', 'fa', 'd', 'pro', 'kei', 'pri', 'kat', 'ta'], ['.', '-', '##a', '##ia', '##an', '##ah', '##am', '##n', '##ian', '##in', '##and', '##ea', '##ak', '##on', '##io', '##er', '##i', '##ta', '_', '##ie', '##en', '##ena', '##ion', '##re', '##ev', '##as', '##eb', '##oc', '##is', '##ear', '##ra', '##ina', \"'\", '##eh', '##ad', '##san', '##ib', '##ii', '##ora', '##ob', '##ens', '##na', '##iss', '##sa', '##usa', '##us', '##iam', '##ipp', '##if', '##su', '##ash', '##lo', '##be', '##da', '##oa', '##ic', '##ill', '##dan', '##o', '/', '##ing', '##ha', '##im', '##ila', '##li', '##e', '##ir', '##ar', '##ek', '##ec', '##el', '##ou', '##ona', '##onn', '##oman', '##ed', '##ok', '##s', '##so', ':', '##jo', '##era', '##ide', '##ien', '##no', '##land', '##esa', '##ur', '##b', '##yh', '##ban', '##y', '##pa', '##ua', '##sun', '##yl', '##han', '##lin', '##ane', 'am'], ['##a', '##o', '##ia', '##i', '##da', '##e', '##ta', '##an', '##on', '##y', '##s', '##ra', '##so', '##la', '##u', '##n', '##and', '##ah', '##in', '##ti', '##son', '##am', '##ea', '##d', '##er', '##t', '##ko', '##2', '##na', '##us', '##ki', '##le', '##era', '##ka', '##io', '##ina', '##b', '##sa', '##aa', '##is', '##go', '##ed', '##land', '##oa', '##ma', '##ika', '##ce', '##en', '##ica', '_', '##ni', '##dan', '##k', '##ora', '##1', '##ius', '##at', '##inna', '##h', '##re', '##ho', '##ato', '##ha', '##3', '##g', '##ist', '##di', '##m', '##pa', '##do', '##ing', '##to', '##esto', '##f', '##r', '##ne', '##anna', '##ie', '##it', '##as', '##6', '##z', '##oo', '##ata', '##si', '##de', '##lo', '##ena', '##ona', '##ola', '##ida', '##ova', '##mi', '##se', '##c', '##iam', '##ak', '##om', '##ja', '##ian']]\n",
      "\n",
      "[16, 17, 18]\n",
      "[]\n",
      "['out', '##lo', '##ok']\n",
      "[['y', 'wor', 'b', 'out', 'sun', 'j', 'gmail', 'w', 'hotmail', 'g', 'ad', 'posti', 'c', 'mic', 'bit', 'mys', 'tin', 'free', 'im', 'netti', 'sur', 'saa', 'koti', 'live', 'em', 'my', 'vi', 'am', 'ly', 'ms', 'sp', 'blo', 'web', 'red', 'mun', 'uusi', 'piste', 'luukku', 'pah', 'fa', 'ota', 'mo', 'r', 'a', 'net', 'ser', 'tum', 's', 'windows', 'i', 'noki', 'dna', 'is', 'm', 'n', 'super', 'one', 'nin', 'nero', 'ni', 'da', 'go', 'off', 't', 'l', 'ever', 'big', 'ins', 'fl', 'for', 'pain', 'voi', 'ge', 'just', 'gu', 'yks', 'sk', 'suomi', 'in', 'h', 'hell', 'kaks', 'z', 'tele', 'back', 'Word', 'ava', 'tri', 'dr', 'yksi', 'down', 'f', 'google', 'wan', 'hip', 'han', 'hope', 'spa', 'sauna', 'p'], ['##ah', '##dp', '##we', '##a', '##to', '##na', '##oo', '##sa', '##on', '##sho', '##ic', '##ou', '##oc', '##s', '##ur', '##ta', '##ov', '##rea', '##ressi', '##lo', '##ipp', '##pa', '##blo', '##in', '##suom', '##hot', '##wor', '##ren', '##so', '##no', '##tar', '##str', '##n', '##rit', '##b', '##bo', '##oto', '##t', '##rosof', '##ba', '##ota', '##boo', '##sh', '##yp', '##op', '##okin', '##od', '##pen', '##gra', '##kut', '##ona', '##cor', '##cros', '##bas', '##sp', '##ro', '##o', '##sta', '##ii', '##el', '##nt', '##ie', '##our', '##ypi', '##oman', '##ista', '##aa', '##and', '##re', '##hal', '##fa', '##y', '##onl', '##ra', '##ide', '##su', '##tom', '##ri', '##che', '##ec', '##ak', '##loma', '##pi', '##sur', '##ce', '##as', '##ban', '##ma', '##bus', '##pea', '##ile', '##om', '##oma', '##vat', '##rot', '##pes', '.', '##tos', '##oa', '##it'], ['##oo', '##ir', '##ok', '##kero', '##ress', '##il', '##ck', '##s', '##ide', '##d', '##on', '##o', '##b', '##y', '##ve', '##x', '##op', '##ppi', '##ver', '##ce', '##cks', '##k', '##pp', '##r', '##p', '##m', '##id', '##l', '##up', '##ot', '##er', '##ud', '##ct', '##post', '##i', '##ard', '##t', '##ike', '##c', '##que', '##ite', '##u', '##gs', '##om', '##ur', '##g', '##vine', '##ff', '##ii', '##kki', '##st', '##ks', '##fo', '##box', '##go', '##mer', '##ote', '##me', '##ke', '##bs', '##hto', '##e', '##ge', '##one', '##de', '##w', '##bb', '##re', '##us', '##od', '##el', '##ons', '##bi', '##pe', '##ro', '##by', '##be', '##po', '##ppula', '##blo', '##ire', '##ger', '##ital', '##cket', '##isi', '##yle', '##ivo', '##ze', '##da', '##z', '##ort', '##ox', '##sh', 'gmail', '##hot', '##ppu', '##in', '##uha', '##ise', '##ch']]\n",
      "\n"
     ]
    }
   ],
   "source": [
    "for i,c,w,p in zip(output[\"to_redact_indices\"], output[\"context\"], output[\"to_redact_words\"], output[\"predictions\"]):\n",
    "    print(i)\n",
    "    print(c)\n",
    "    print(w)\n",
    "    print(p[0:10])\n",
    "    print(\"\")"
   ]
  },
  {
   "cell_type": "code",
   "execution_count": null,
   "id": "ccef0c05-cdc9-434c-a477-448b3b165744",
   "metadata": {},
   "outputs": [],
   "source": []
  }
 ],
 "metadata": {
  "kernelspec": {
   "display_name": "Python 3 (ipykernel)",
   "language": "python",
   "name": "python3"
  },
  "language_info": {
   "codemirror_mode": {
    "name": "ipython",
    "version": 3
   },
   "file_extension": ".py",
   "mimetype": "text/x-python",
   "name": "python",
   "nbconvert_exporter": "python",
   "pygments_lexer": "ipython3",
   "version": "3.9.18"
  }
 },
 "nbformat": 4,
 "nbformat_minor": 5
}
