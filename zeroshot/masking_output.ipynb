{
 "cells": [
  {
   "cell_type": "code",
   "execution_count": 1,
   "id": "f94bc27b-c01e-4348-b25e-56b502fff443",
   "metadata": {},
   "outputs": [],
   "source": [
    "from piimasker import PiiMasker\n",
    "import numpy as np\n",
    "from cosine_similarity import find_best_cosine_match\n",
    "import transformers"
   ]
  },
  {
   "cell_type": "code",
   "execution_count": 2,
   "id": "a6020b9a-2397-4b0e-954e-2f17c07e0fc9",
   "metadata": {},
   "outputs": [],
   "source": [
    "MODEL_NAME=\"TurkuNLP/bert-base-finnish-cased-v1\"\n",
    "tokenizer = transformers.AutoTokenizer.from_pretrained(MODEL_NAME)\n",
    "model = transformers.AutoModelForPreTraining.from_pretrained(MODEL_NAME)\n",
    "\n",
    "pf = PiiMasker(model, tokenizer, 1e-4, use_context=True, tokenizer_type=\"WordPiece\")\n"
   ]
  },
  {
   "cell_type": "code",
   "execution_count": 3,
   "id": "518a498f-56c5-4501-923c-922d316e1333",
   "metadata": {},
   "outputs": [],
   "source": [
    "text = \"Moi, olen Amanda, mulle voit laittaa viestiä osoitteeseen amanda@outlook.com\"\n",
    "\n",
    "output = pf.find_pii(text)"
   ]
  },
  {
   "cell_type": "code",
   "execution_count": 4,
   "id": "7d36c462-f27f-4d6e-a8bd-992a44146514",
   "metadata": {},
   "outputs": [
    {
     "name": "stdout",
     "output_type": "stream",
     "text": [
      "[[12, 13, 14], [4, 5], []]\n"
     ]
    }
   ],
   "source": [
    "print(output[\"context\"])"
   ]
  },
  {
   "cell_type": "code",
   "execution_count": 7,
   "id": "69f9fa8f-cdaa-4709-8b8c-23ead99cfcde",
   "metadata": {},
   "outputs": [
    {
     "name": "stdout",
     "output_type": "stream",
     "text": [
      "[4, 5]\n",
      "[12, 13, 14]\n",
      "['Aman', '##da']\n",
      "[['ihan', 'kiinnostunut', 'jo', 'siis', 'täällä', 'myös', 'vasta', 'Jenni', 'aivan', 'varasi', 'itse', 'tosi', 'Moi', 'juuri', 'Hei', 'anonyy', 'aloitteli', 'uusi', 'saman', 'samaa', 'Tiia', 'nuori', 'nyt', 'aika', 'siellä', 'tyttö', 'todella', 'lähdössä', 'blogi', 'tulossa', 'oul', 'Sus', 'tamper', 'yksi', 'itsekin', 'naispuol', 'Minna', 'Outi', 'vain', 'mess', 'muuttamassa', 'Ki', 'tamperela', 'nainen', 'löytänyt', 'asiakaspalvelu', 'menossa', 'sun', 'turkula', 'muuten', 'sen', '24', 'ja', 'mukana', 'ensikerta', 'Henna', 'pääkaupunkise', 'Tiina', 'sama', 'helsing', 'hei', 'kyseli', 'vähän', 'kirjoittanut', 'täältä', 'Juu', 'Mai', 'Eli', 'lukija', 'Salla', 'tii', 'varattu', 'samassa', 'mies', 'mail', '17', 'lukijan', '16', 'tässä', 'Hanna', 'lähettänyt', 'por', 'vailla', 'erittäin', 'Te', '18', 'mar', 'Johanna', 'lukenut', 'Katja', 'Anni', 'taas', 'joku', 'pian', 'Niina', 'Jani', 'tyt', 'nais', 'Heidi', 'sieltä'], ['sisko', 'äiti', 'fani', 'tyttö', 'takana', 'tytär', 'poika', 'kirjoittaja', 'kanssa', 'Jenni', 'omistaja', 'mies', 'veli', 'nainen', 'Elli', 'ystävä', 'serkku', 'vaimo', 'kaveri', 'jäsen', 'Anna', 'Kaisa', 'tyttöystävä', 'täti', 'isä', 'setä', 'Elina', '[UNK]', 'Heidi', 'lapsi', 'Jenna', 'Hei', 'nimi', 'Kim', 'Mäntylä', 'seudulta', 'Laura', 'näköinen', 'Linda', 'Minna', 'käyttäjä', 'Noora', 'tarpeessa', 'Anu', 'Milla', 'Ilona', 'Anne', 'puolella', 'ikäinen', 'aloittaja', 'kasvatti', 'kannalla', 'luona', 'Mona', 'itse', 'Karoliina', 'kans', 'Jones', 'alku', 'minä', 'Äiti', 'Juuso', 'Veera', 'Julia', 'vanhempi', 'morsian', ',', 'asemassa', 'Maria', 'J', 'kannattaja', 'lukija', 'Johanna', 'Lauri', 'Marja', 'Helmi', 'sukua', 'Helsingistä', 'Maija', 'opiskelija', 'sukulainen', 'Markus', 'valmentaja', 'Joo', 'sisar', 'Marika', 'perustaja', 'Hanna', 'oppilas', 'Pia', 'edustaja', 'kirjoittanut', 'lähellä', 'Tomi', 'lähettyvillä', 'Moi', 'mukana', 'Make', 'naapuri', 'Taina']]\n",
      "\n",
      "[12, 13, 14]\n",
      "[4, 5]\n",
      "['am', '##and', '##a']\n",
      "[['j', 'w', 'an', 'mar', 'mi', ':', 'ma', 'i', 'jaa', 'pa', 'sun', 'y', 'c', 'g', 'ti', 'han', 'pe', 'sp', 'a', 'san', 'ja', 'ra', 's', 'h', 'z', 'le', 'jo', 'ni', 'x', 'n', 'u', 'm', 'ar', 'b', 'hen', 'kat', 'f', 'pir', 'se', 'out', 'ta', 'pen', 'il', 'jan', 'pet', 'iki', 'rus', 'johan', 'min', 'e', 'sam', 'satu', 'em', 'ju', 'ka', 't', 'jar', 'q', '.', 'te', 'mir', 'ir', 'k', 'ale', 'lin', 'ri', 'ann', 'ty', 'sc', 'ad', 'ro', 'au', 'my', 'kar', 'jus', 'o', 'lau', 'hy', 'fa', 'man', 'da', 'tii', 'mik', 'is', 'sa', 'pas', 'en', 'jen', 'tom', 'hem', 'la', 'juh', 'mo', 'tai', 'per', 'ai', 'hei', 'bo', 'ca', 'sus'], ['.', '-', '_', ':', '/', '@', \"'\", 'am', ',', '&', 'ja', 'an', 'a', 'at', 'ät', '+', '(', 'o', '=', 'i', 'is', 'j', ')', 'w', 'ar', 'and', 'y', 'in', 'mar', 'tai', 'arj', 'im', 'n', 'c', 'ut', 'os', 'e', 'jan', 'ta', 's', 'r', '!', 'ist', 'ann', 'au', 'the', 'ik', ';', 'tur', 'sun', 'of', 'x', '*', 'eli', 'h', 'z', 'mi', 'mir', 'de', 'sal', 't', 'or', 'ri', 'ys', '?', 'se', 'b', 'for', 'era', 'ma', 'tin', 'lei', 'per', 'iin', 'ad', 'pen', 'pe', 'ste', 'imm', 'as', 'es', 'hav', 'ul', 'by', 'lif', 'to', 'er', 'it', 'hen', 'u', 'sa', 'ham', 'tan', 'da', 'ang', 'supp', 'ir', 'il', 'ly', 'sur'], ['_', '.', '-', ',', '@', '(', 'a', 'info', 'o', 'ville', ':', '2', 'j', 'b', '/', '[UNK]', '\"', 'p', 'out', '+', 'm', 'one', 'at', 'era', 'black', 'fi', 'com', 's', 'e', '1', '!', 'up', 'x', 'k', 'line', 'art', \"'\", 'oy', 'helsinki', 'online', 'ät', 'free', ')', '24', 'c', 'r', 'i', 'mail', 'hotmail', 'sukunimi', 'studio', 'n', 'd', 'man', 'ale', 'am', 'gmail', '3', 'w', 'on', 'ja', 'it', '4', 'pair', 'Finland', 'ar', 'tom', 'and', 'is', 'of', '25', 'junior', 'luukku', 'ab', '10', 'aho', '=', '8', 'in', 'os', 'an', '[', 'joka', 'pro', '13', 'as', 'liv', 'air', 'manager', 'posti', 'my', '?', 'xx', '*', 'kun', 'af', 'y', 'f', 'kalle', 'shop']]\n",
      "\n",
      "[16, 17, 18]\n",
      "[]\n",
      "['out', '##lo', '##ok']\n",
      "[['y', 'j', 'b', 'wor', 'out', 'gmail', 'hotmail', 'sun', 'w', 'netti', 'c', 'mic', 'free', 'posti', 'saa', 'blo', 'koti', 'ad', 'uusi', 'sur', 'g', 'mys', 'im', 'suomi', 'live', 'bit', 'red', 'sp', 'net', 'ly', 'em', 'mun', 'ms', 'r', 'luukku', 'tum', 'tin', 'super', 's', 'h', 'fa', 'm', 'vi', 'ilme', 'piste', 'a', 'mo', 'my', 'web', 'noki', 'nin', 'pah', 'am', 'ni', 'ota', 'one', 'n', 'big', 'off', 'go', 'ava', 'windows', 'da', 'is', 'ser', 'voi', 'sauna', 'nero', 'in', 'for', 'sk', 'iki', 'gu', 'dna', 'l', 'satu', 'wan', 't', 'miss', 'kaks', 'ihana', 'i', 'pain', 'tele', 'dr', 'google', 'hu', 'hall', 'f', 'tod', 'back', 'at', 'spa', 'just', 'fac', 'kulta', 'de', 'paras', 'tri', 'hymy'], ['##ah', '##a', '##dp', '##oo', '##to', '##on', '##sho', '##we', '##ic', '##na', '##sa', '##ou', '##ov', '##ipp', '##ta', '##oc', '##suom', '##s', '##hot', '##no', '##ur', '##rea', '##pa', '##ressi', '##blo', '##in', '##lo', '##so', '##str', '##tar', '##ota', '##bo', '##ba', '##pen', '##ren', '##n', '##b', '##wor', '##oto', '##boo', '##kut', '##sh', '##t', '.', '##bas', '##ona', '##cor', '##sp', '##cros', '##op', '##sta', '##ii', '##and', '##rosof', '##ho', '##gra', '##onl', '##aa', '##our', '##o', '##pi', '##rit', '-', '##su', '##as', '##yp', '##hal', '##qu', '##od', '##ec', '##om', '##ma', '##pea', '##side', '##oman', '##oi', '##erve', '##ie', '##ypi', '##ex', '##ce', '##las', '##tom', '##ms', '##loma', '##ban', '##el', '##rid', '##lim', '##por', '##okin', '##re', '##tr', '##di', '##bur', '##ena', '##fa', '##sur', '##pes', '##ia'], ['##oo', '##kero', '##ir', '##o', '##on', '##ress', '##ide', '##ck', '##x', '##s', '##b', '##ok', '##k', '##ppi', '##op', '##il', '##d', '##que', '##m', '##ce', '##i', '##y', '##ot', '##kki', '##p', '##post', '##r', '##ve', '##ver', '##up', '##c', '##ud', '##id', '##ike', '##fo', '##er', '##blo', '##ct', '##ite', '##l', '##cks', '##u', '##ii', '##ard', '##om', '##t', '##ur', '##ff', '##re', '##lo', '##by', '##pp', '##od', '##po', '##st', '##iva', '##w', '##sh', '##ivo', '##bs', '##me', '##ks', '##kanen', '##bo', '##ire', '##e', '##dia', '##g', '##go', '##ons', '##hot', '##hto', '##vine', '##ke', '##ro', '##edia', '##se', '##per', '##us', '##de', '##ukku', '##yle', '##und', '##mer', '##bi', '##ge', '##box', 'gmail', '##pu', '##zz', '##ote', '##pe', '##is', '##plan', '##bb', '##isi', '##ze', '##gs', '##ox', '##el']]\n",
      "\n"
     ]
    }
   ],
   "source": [
    "for i,c,w,p in zip(output[\"to_redact_indices\"], output[\"context\"], output[\"to_redact_words\"], output[\"predictions\"]):\n",
    "    print(i)\n",
    "    print(c)\n",
    "    print(w)\n",
    "    print(p[0:10])\n",
    "    print(\"\")"
   ]
  },
  {
   "cell_type": "code",
   "execution_count": null,
   "id": "ccef0c05-cdc9-434c-a477-448b3b165744",
   "metadata": {},
   "outputs": [],
   "source": []
  }
 ],
 "metadata": {
  "kernelspec": {
   "display_name": "Python 3 (ipykernel)",
   "language": "python",
   "name": "python3"
  },
  "language_info": {
   "codemirror_mode": {
    "name": "ipython",
    "version": 3
   },
   "file_extension": ".py",
   "mimetype": "text/x-python",
   "name": "python",
   "nbconvert_exporter": "python",
   "pygments_lexer": "ipython3",
   "version": "3.9.18"
  }
 },
 "nbformat": 4,
 "nbformat_minor": 5
}
