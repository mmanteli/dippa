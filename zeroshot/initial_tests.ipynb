{
 "cells": [
  {
   "cell_type": "code",
   "execution_count": 1,
   "id": "e3deb754-b38a-42c7-b59b-b49672a71017",
   "metadata": {},
   "outputs": [],
   "source": [
    "import transformers\n",
    "import datasets\n",
    "import torch\n",
    "import random\n",
    "import copy\n",
    "import itertools"
   ]
  },
  {
   "cell_type": "code",
   "execution_count": 2,
   "id": "dadff8e2-9b5d-47e8-95eb-dae8a3c5c6f3",
   "metadata": {},
   "outputs": [
    {
     "name": "stderr",
     "output_type": "stream",
     "text": [
      "/usr/local/lib64/python3.9/site-packages/torch/cuda/__init__.py:611: UserWarning: Can't initialize NVML\n",
      "  warnings.warn(\"Can't initialize NVML\")\n"
     ]
    }
   ],
   "source": [
    "tokenizer = transformers.AutoTokenizer.from_pretrained(\"TurkuNLP/bert-base-finnish-cased-v1\")\n",
    "model = transformers.AutoModelForPreTraining.from_pretrained(\"TurkuNLP/bert-base-finnish-cased-v1\")"
   ]
  },
  {
   "cell_type": "markdown",
   "id": "35d7387b-37f7-40fa-ba9d-94298460c28b",
   "metadata": {},
   "source": [
    "## Example"
   ]
  },
  {
   "cell_type": "code",
   "execution_count": 3,
   "id": "5b6fec51-ca79-4fd3-a1e6-d29cc9f3bcf3",
   "metadata": {},
   "outputs": [
    {
     "name": "stdout",
     "output_type": "stream",
     "text": [
      "Guesses: nuolla syödä haukkua katsella rakastaa tappaa katsoa kiusata varoa panna käsitellä myös purra leikkiä ruokkia olla sietää vihata hoitaa alistaa\n"
     ]
    }
   ],
   "source": [
    "texts = [\"Koirat tykkäävät [MASK] kissoja.\"]\n",
    "\n",
    "t = tokenizer(texts, padding=True, truncation=True, return_tensors=\"pt\")\n",
    "model_out = model(**t)\n",
    "top20 = torch.argsort(model_out[\"prediction_logits\"], dim=2, descending=True)[:,:,:20]\n",
    "print(\"Guesses:\",tokenizer.decode(top20[0,3]))   #index 3 as <s> is the first token (here we assumed all words==1 token)"
   ]
  },
  {
   "cell_type": "markdown",
   "id": "b70db3d8-1a31-4266-9a89-22aeda077060",
   "metadata": {},
   "source": [
    "## Global variables"
   ]
  },
  {
   "cell_type": "code",
   "execution_count": 4,
   "id": "449eccae-722b-4173-a1db-d71a01ca5164",
   "metadata": {},
   "outputs": [],
   "source": [
    "special_tokens = tokenizer.all_special_tokens\n",
    "continuation_marker = \"##\"   # how to get this?"
   ]
  },
  {
   "cell_type": "markdown",
   "id": "91c64183-0145-4641-8b9f-d1073172b6f2",
   "metadata": {},
   "source": [
    "## Masking"
   ]
  },
  {
   "cell_type": "code",
   "execution_count": 5,
   "id": "978f78ed-3c0a-430e-8cfe-98fe504a6c5a",
   "metadata": {},
   "outputs": [],
   "source": [
    "\n",
    "def mask_sentence(t):\n",
    "    masked = []\n",
    "    converted = tokenizer.convert_ids_to_tokens(t[\"input_ids\"][0])\n",
    "    need_to_mask = []\n",
    "    for i in range(0, len(t[\"input_ids\"][0])):\n",
    "        masked.append(copy.deepcopy(t))\n",
    "        if converted[i][:2] != continuation_marker:# and converted not in special_tokens:\n",
    "            for k,j in itertools.product(need_to_mask, need_to_mask):\n",
    "                masked[k][\"input_ids\"][0][j] = tokenizer.mask_token_id # mask the token in input\n",
    "            need_to_mask=[i]\n",
    "        else:\n",
    "            need_to_mask.append(i)\n",
    "    return masked\n",
    "\n",
    "def mask_and_get_indices(t):\n",
    "    masked = []\n",
    "    converted = tokenizer.convert_ids_to_tokens(t[\"input_ids\"][0])\n",
    "    indices=[]\n",
    "    for i in range(0, len(t[\"input_ids\"][0])):\n",
    "        if converted[i][:2] != continuation_marker:# and converted not in special_tokens:\n",
    "            masked.append(copy.deepcopy(t))\n",
    "            indices.append([i])\n",
    "            masked[-1][\"input_ids\"][0][i] = tokenizer.mask_token_id # mask the token in input\n",
    "        else:\n",
    "            masked[-1][\"input_ids\"][0][i]= tokenizer.mask_token_id # mask the token in input\n",
    "            indices[-1].append(i)\n",
    "    return masked, indices"
   ]
  },
  {
   "cell_type": "markdown",
   "id": "8c0785af-2655-49c8-83e1-9142ecac1cb5",
   "metadata": {},
   "source": [
    "## Tokenizer"
   ]
  },
  {
   "cell_type": "code",
   "execution_count": 6,
   "id": "f7639128-3f3d-4968-863e-b04f373c746c",
   "metadata": {},
   "outputs": [],
   "source": [
    "def wrap_tokenizer(tokenizer, options):\n",
    "    \"\"\"Wrapping to allow dataset.map() to have the tokenizer as a parameter\"\"\"\n",
    "    def encode_dataset(d):\n",
    "        \"\"\"\n",
    "        Tokenize the sentences.\n",
    "        \"\"\"\n",
    "        output = tokenizer(d['text'], truncation= True, max_length=tokenizer.model_max_length)\n",
    "        return output\n",
    "    return encode_dataset\n"
   ]
  },
  {
   "cell_type": "code",
   "execution_count": 7,
   "id": "26f7707c-a697-4c47-988f-da73b01efcb3",
   "metadata": {},
   "outputs": [
    {
     "name": "stdout",
     "output_type": "stream",
     "text": [
      "tokens: [CLS] Heippa, mun nimi on Amanda ja harrastan pianon soittoa. Mulle voit soittaa 0442700995. [SEP]\n",
      "Masked:\n",
      "[MASK] Heippa, mun nimi on Amanda ja harrastan pianon soittoa. Mulle voit soittaa 0442700995. [SEP]\n",
      "[CLS] [MASK] [MASK], mun nimi on Amanda ja harrastan pianon soittoa. Mulle voit soittaa 0442700995. [SEP]\n",
      "[CLS] [MASK] [MASK], mun nimi on Amanda ja harrastan pianon soittoa. Mulle voit soittaa 0442700995. [SEP]\n",
      "[CLS] Heippa [MASK] mun nimi on Amanda ja harrastan pianon soittoa. Mulle voit soittaa 0442700995. [SEP]\n",
      "[CLS] Heippa, [MASK] nimi on Amanda ja harrastan pianon soittoa. Mulle voit soittaa 0442700995. [SEP]\n",
      "[CLS] Heippa, mun [MASK] on Amanda ja harrastan pianon soittoa. Mulle voit soittaa 0442700995. [SEP]\n",
      "[CLS] Heippa, mun nimi [MASK] Amanda ja harrastan pianon soittoa. Mulle voit soittaa 0442700995. [SEP]\n",
      "[CLS] Heippa, mun nimi on [MASK] [MASK] ja harrastan pianon soittoa. Mulle voit soittaa 0442700995. [SEP]\n",
      "[CLS] Heippa, mun nimi on [MASK] [MASK] ja harrastan pianon soittoa. Mulle voit soittaa 0442700995. [SEP]\n",
      "[CLS] Heippa, mun nimi on Amanda [MASK] harrastan pianon soittoa. Mulle voit soittaa 0442700995. [SEP]\n",
      "[CLS] Heippa, mun nimi on Amanda ja [MASK] pianon soittoa. Mulle voit soittaa 0442700995. [SEP]\n",
      "[CLS] Heippa, mun nimi on Amanda ja harrastan [MASK] [MASK] soittoa. Mulle voit soittaa 0442700995. [SEP]\n",
      "[CLS] Heippa, mun nimi on Amanda ja harrastan [MASK] [MASK] soittoa. Mulle voit soittaa 0442700995. [SEP]\n",
      "[CLS] Heippa, mun nimi on Amanda ja harrastan pianon [MASK]. Mulle voit soittaa 0442700995. [SEP]\n",
      "[CLS] Heippa, mun nimi on Amanda ja harrastan pianon soittoa [MASK] Mulle voit soittaa 0442700995. [SEP]\n",
      "[CLS] Heippa, mun nimi on Amanda ja harrastan pianon soittoa. [MASK] voit soittaa 0442700995. [SEP]\n",
      "[CLS] Heippa, mun nimi on Amanda ja harrastan pianon soittoa. Mulle [MASK] soittaa 0442700995. [SEP]\n",
      "[CLS] Heippa, mun nimi on Amanda ja harrastan pianon soittoa. Mulle voit [MASK] 0442700995. [SEP]\n",
      "[CLS] Heippa, mun nimi on Amanda ja harrastan pianon soittoa. Mulle voit soittaa [MASK] [MASK] [MASK] [MASK] [MASK]. [SEP]\n",
      "[CLS] Heippa, mun nimi on Amanda ja harrastan pianon soittoa. Mulle voit soittaa [MASK] [MASK] [MASK] [MASK] [MASK]. [SEP]\n",
      "[CLS] Heippa, mun nimi on Amanda ja harrastan pianon soittoa. Mulle voit soittaa [MASK] [MASK] [MASK] [MASK] [MASK]. [SEP]\n",
      "[CLS] Heippa, mun nimi on Amanda ja harrastan pianon soittoa. Mulle voit soittaa [MASK] [MASK] [MASK] [MASK] [MASK]. [SEP]\n",
      "[CLS] Heippa, mun nimi on Amanda ja harrastan pianon soittoa. Mulle voit soittaa [MASK] [MASK] [MASK] [MASK] [MASK]. [SEP]\n",
      "[CLS] Heippa, mun nimi on Amanda ja harrastan pianon soittoa. Mulle voit soittaa 0442700995 [MASK] [SEP]\n",
      "[CLS] Heippa, mun nimi on Amanda ja harrastan pianon soittoa. Mulle voit soittaa 0442700995. [SEP]\n"
     ]
    }
   ],
   "source": [
    "text = \"Heippa, mun nimi on Amanda ja harrastan pianon soittoa. Mulle voit soittaa 0442700995.\"\n",
    "\n",
    "t = tokenizer(text, return_tensors='pt') # prepare normal tokenized input\n",
    "print(\"tokens:\", tokenizer.decode(t[\"input_ids\"][0]))\n",
    "\n",
    "masked = mask_sentence(t)\n",
    "\n",
    "print(\"Masked:\")\n",
    "for m in masked:\n",
    "    print(tokenizer.decode(m[\"input_ids\"][0]))\n"
   ]
  },
  {
   "cell_type": "markdown",
   "id": "91bff997-064c-4424-9b90-34ac9a8f2de7",
   "metadata": {},
   "source": [
    "## Prediction"
   ]
  },
  {
   "cell_type": "code",
   "execution_count": 12,
   "id": "7065e95b-97a3-4df8-b0b7-931b4d2281e8",
   "metadata": {},
   "outputs": [
    {
     "name": "stdout",
     "output_type": "stream",
     "text": [
      "[MASK] Heippa, mun nimi on Amanda ja harrastan pianon soittoa. Mulle voit soittaa 0442700995. [SEP]\n",
      "Guesses: soitan ja. mulle soittaa\n",
      "Logits:  tensor([10.7357, 10.7139, 10.2841,  9.8710,  9.8228], grad_fn=<SliceBackward0>)\n",
      "Probs:   tensor([0.0640, 0.0626, 0.0408, 0.0270, 0.0257], grad_fn=<SliceBackward0>)\n",
      " \n",
      "[CLS] [MASK] [MASK], mun nimi on Amanda ja harrastan pianon soittoa. Mulle voit soittaa 0442700995. [SEP]\n",
      "Guesses: Hei Moi Ain Niin Oon\n",
      "Logits:  tensor([14.2579, 13.3853, 12.7012, 11.1238, 11.0604], grad_fn=<SliceBackward0>)\n",
      "Probs:   tensor([0.3198, 0.1336, 0.0674, 0.0139, 0.0131], grad_fn=<SliceBackward0>)\n",
      " \n",
      "[CLS] [MASK] [MASK], mun nimi on Amanda ja harrastan pianon soittoa. Mulle voit soittaa 0442700995. [SEP]\n",
      "Guesses: heiaoppakka\n",
      "Logits:  tensor([10.6692, 10.5902, 10.1079, 10.0955, 10.0271], grad_fn=<SliceBackward0>)\n",
      "Probs:   tensor([0.0558, 0.0516, 0.0319, 0.0315, 0.0294], grad_fn=<SliceBackward0>)\n",
      " \n",
      "[CLS] Heippa [MASK] mun nimi on Amanda ja harrastan pianon soittoa. Mulle voit soittaa 0442700995. [SEP]\n",
      "Guesses: ,! ja hei Hei\n",
      "Logits:  tensor([17.1282, 15.2824, 13.0556, 12.6979, 12.1301], grad_fn=<SliceBackward0>)\n",
      "Probs:   tensor([0.8021, 0.1266, 0.0137, 0.0096, 0.0054], grad_fn=<SliceBackward0>)\n",
      " \n",
      "[CLS] Heippa, [MASK] nimi on Amanda ja harrastan pianon soittoa. Mulle voit soittaa 0442700995. [SEP]\n",
      "Guesses: mun Mun minun miun Minun\n",
      "Logits:  tensor([19.4921, 17.6996, 16.7789, 16.2962, 14.9868], grad_fn=<SliceBackward0>)\n",
      "Probs:   tensor([0.7345, 0.1223, 0.0487, 0.0301, 0.0081], grad_fn=<SliceBackward0>)\n",
      " \n",
      "[CLS] Heippa, mun [MASK] on Amanda ja harrastan pianon soittoa. Mulle voit soittaa 0442700995. [SEP]\n",
      "Guesses: nimi nimeni äiti sisko tyttö\n",
      "Logits:  tensor([20.0580, 17.8645, 16.4045, 16.0797, 15.4528], grad_fn=<SliceBackward0>)\n",
      "Probs:   tensor([0.8123, 0.0906, 0.0210, 0.0152, 0.0081], grad_fn=<SliceBackward0>)\n",
      " \n",
      "[CLS] Heippa, mun nimi [MASK] Amanda ja harrastan pianon soittoa. Mulle voit soittaa 0442700995. [SEP]\n",
      "Guesses: on oli onkin : o\n",
      "Logits:  tensor([20.8345, 14.5669, 13.0691, 12.2314, 12.2139], grad_fn=<SliceBackward0>)\n",
      "Probs:   tensor([9.9548e-01, 1.8882e-03, 4.2222e-04, 1.8271e-04, 1.7954e-04],\n",
      "       grad_fn=<SliceBackward0>)\n",
      " \n",
      "[CLS] Heippa, mun nimi on [MASK] [MASK] ja harrastan pianon soittoa. Mulle voit soittaa 0442700995. [SEP]\n",
      "Guesses: Mai Ri Vil An Oon\n",
      "Logits:  tensor([8.9303, 8.6071, 8.5439, 8.3872, 8.3009], grad_fn=<SliceBackward0>)\n",
      "Probs:   tensor([0.0110, 0.0080, 0.0075, 0.0064, 0.0059], grad_fn=<SliceBackward0>)\n",
      " \n",
      "[CLS] Heippa, mun nimi on [MASK] [MASK] ja harrastan pianon soittoa. Mulle voit soittaa 0442700995. [SEP]\n",
      "Guesses: ##aioue\n",
      "Logits:  tensor([11.6762, 11.3450, 11.0391, 10.8708, 10.7202], grad_fn=<SliceBackward0>)\n",
      "Probs:   tensor([0.0561, 0.0403, 0.0296, 0.0251, 0.0216], grad_fn=<SliceBackward0>)\n",
      " \n",
      "[CLS] Heippa, mun nimi on Amanda [MASK] harrastan pianon soittoa. Mulle voit soittaa 0442700995. [SEP]\n",
      "Guesses: ja, mutta koska eli\n",
      "Logits:  tensor([20.3762, 17.6755, 15.6500, 15.0761, 14.7665], grad_fn=<SliceBackward0>)\n",
      "Probs:   tensor([0.9166, 0.0616, 0.0081, 0.0046, 0.0034], grad_fn=<SliceBackward0>)\n",
      " \n",
      "[CLS] Heippa, mun nimi on Amanda ja [MASK] pianon soittoa. Mulle voit soittaa 0442700995. [SEP]\n",
      "Guesses: harrastan rakastan opiskelen tykkään soitan\n",
      "Logits:  tensor([22.5839, 21.4463, 18.3432, 16.2676, 15.9496], grad_fn=<SliceBackward0>)\n",
      "Probs:   tensor([0.7423, 0.2380, 0.0107, 0.0013, 0.0010], grad_fn=<SliceBackward0>)\n",
      " \n",
      "[CLS] Heippa, mun nimi on Amanda ja harrastan [MASK] [MASK] soittoa. Mulle voit soittaa 0442700995. [SEP]\n",
      "Guesses: piano kitara rump viul han\n",
      "Logits:  tensor([17.1686, 16.2315, 15.2344, 14.6842, 13.6449], grad_fn=<SliceBackward0>)\n",
      "Probs:   tensor([0.5417, 0.2122, 0.0783, 0.0452, 0.0160], grad_fn=<SliceBackward0>)\n",
      " \n",
      "[CLS] Heippa, mun nimi on Amanda ja harrastan [MASK] [MASK] soittoa. Mulle voit soittaa 0442700995. [SEP]\n",
      "Guesses: ##nujenunonrin\n",
      "Logits:  tensor([18.7721, 16.2947, 15.8575, 15.1175, 14.9418], grad_fn=<SliceBackward0>)\n",
      "Probs:   tensor([0.7216, 0.0606, 0.0391, 0.0187, 0.0157], grad_fn=<SliceBackward0>)\n",
      " \n",
      "[CLS] Heippa, mun nimi on Amanda ja harrastan pianon [MASK]. Mulle voit soittaa 0442700995. [SEP]\n",
      "Guesses: soittoa opetusta opiskeluahoitoa käyttöä\n",
      "Logits:  tensor([23.1313, 18.0216, 17.4165, 17.1044, 17.0488], grad_fn=<SliceBackward0>)\n",
      "Probs:   tensor([0.9721, 0.0059, 0.0032, 0.0023, 0.0022], grad_fn=<SliceBackward0>)\n",
      " \n",
      "[CLS] Heippa, mun nimi on Amanda ja harrastan pianon soittoa [MASK] Mulle voit soittaa 0442700995. [SEP]\n",
      "Guesses: .!, [UNK]?\n",
      "Logits:  tensor([20.2086, 16.8715, 13.8816, 12.0095, 11.3166], grad_fn=<SliceBackward0>)\n",
      "Probs:   tensor([9.6284e-01, 3.4221e-02, 1.7209e-03, 2.6470e-04, 1.3238e-04],\n",
      "       grad_fn=<SliceBackward0>)\n",
      " \n",
      "[CLS] Heippa, mun nimi on Amanda ja harrastan pianon soittoa. [MASK] voit soittaa 0442700995. [SEP]\n",
      "Guesses: Mulle Minulle mulle Mut Meille\n",
      "Logits:  tensor([20.5862, 19.5830, 18.3221, 16.8134, 16.1258], grad_fn=<SliceBackward0>)\n",
      "Probs:   tensor([0.6271, 0.2299, 0.0652, 0.0144, 0.0072], grad_fn=<SliceBackward0>)\n",
      " \n",
      "[CLS] Heippa, mun nimi on Amanda ja harrastan pianon soittoa. Mulle [MASK] soittaa 0442700995. [SEP]\n",
      "Guesses: voi saa voit kannattaa voitte\n",
      "Logits:  tensor([19.6295, 17.5221, 17.1793, 14.7435, 14.5801], grad_fn=<SliceBackward0>)\n",
      "Probs:   tensor([0.8026, 0.0976, 0.0692, 0.0061, 0.0051], grad_fn=<SliceBackward0>)\n",
      " \n",
      "[CLS] Heippa, mun nimi on Amanda ja harrastan pianon soittoa. Mulle voit [MASK] 0442700995. [SEP]\n",
      "Guesses: soittaa vastata soitella ilmoittaa kirjoittaa\n",
      "Logits:  tensor([22.0661, 16.8053, 16.7333, 15.8551, 15.4617], grad_fn=<SliceBackward0>)\n",
      "Probs:   tensor([0.9770, 0.0051, 0.0047, 0.0020, 0.0013], grad_fn=<SliceBackward0>)\n",
      " \n",
      "[CLS] Heippa, mun nimi on Amanda ja harrastan pianon soittoa. Mulle voit soittaa [MASK] [MASK] [MASK] [MASK] [MASK]. [SEP]\n",
      "Guesses: piano myös vaikka mun ihan\n",
      "Logits:  tensor([10.7968,  9.9087,  9.7808,  9.0962,  8.4490], grad_fn=<SliceBackward0>)\n",
      "Probs:   tensor([0.1161, 0.0478, 0.0420, 0.0212, 0.0111], grad_fn=<SliceBackward0>)\n",
      " \n",
      "[CLS] Heippa, mun nimi on Amanda ja harrastan pianon soittoa. Mulle voit soittaa [MASK] [MASK] [MASK] [MASK] [MASK]. [SEP]\n",
      "Guesses: ##an pianonusoit\n",
      "Logits:  tensor([9.3159, 8.9726, 8.7765, 8.0741, 7.7978], grad_fn=<SliceBackward0>)\n",
      "Probs:   tensor([0.0452, 0.0320, 0.0263, 0.0130, 0.0099], grad_fn=<SliceBackward0>)\n",
      " \n",
      "[CLS] Heippa, mun nimi on Amanda ja harrastan pianon soittoa. Mulle voit soittaa [MASK] [MASK] [MASK] [MASK] [MASK]. [SEP]\n",
      "Guesses: ##soitan janu\n",
      "Logits:  tensor([9.8045, 9.4548, 8.6421, 8.5030, 8.4576], grad_fn=<SliceBackward0>)\n",
      "Probs:   tensor([0.0585, 0.0413, 0.0183, 0.0159, 0.0152], grad_fn=<SliceBackward0>)\n",
      " \n",
      "[CLS] Heippa, mun nimi on Amanda ja harrastan pianon soittoa. Mulle voit soittaa [MASK] [MASK] [MASK] [MASK] [MASK]. [SEP]\n",
      "Guesses: ##soit pianonain\n",
      "Logits:  tensor([8.6396, 8.4047, 8.3210, 8.2719, 8.2121], grad_fn=<SliceBackward0>)\n",
      "Probs:   tensor([0.0186, 0.0147, 0.0135, 0.0129, 0.0121], grad_fn=<SliceBackward0>)\n",
      " \n",
      "[CLS] Heippa, mun nimi on Amanda ja harrastan pianon soittoa. Mulle voit soittaa [MASK] [MASK] [MASK] [MASK] [MASK]. [SEP]\n",
      "Guesses: ##astainita\n",
      "Logits:  tensor([11.1655, 10.7974, 10.6335, 10.5123, 10.3832], grad_fn=<SliceBackward0>)\n",
      "Probs:   tensor([0.0544, 0.0376, 0.0320, 0.0283, 0.0249], grad_fn=<SliceBackward0>)\n",
      " \n",
      "[CLS] Heippa, mun nimi on Amanda ja harrastan pianon soittoa. Mulle voit soittaa 0442700995 [MASK] [SEP]\n",
      "Guesses: .! / :,\n",
      "Logits:  tensor([18.3664, 15.5912, 12.3210, 12.1837, 11.6926], grad_fn=<SliceBackward0>)\n",
      "Probs:   tensor([0.9252, 0.0577, 0.0022, 0.0019, 0.0012], grad_fn=<SliceBackward0>)\n",
      " \n",
      "[CLS] Heippa, mun nimi on Amanda ja harrastan pianon soittoa. Mulle voit soittaa 0442700995. [SEP]\n",
      "Guesses: .!,n -\n",
      "Logits:  tensor([20.3524, 10.7943, 10.5332,  9.4868,  9.0502], grad_fn=<SliceBackward0>)\n",
      "Probs:   tensor([9.9956e-01, 7.0602e-05, 5.4373e-05, 1.9097e-05, 1.2341e-05],\n",
      "       grad_fn=<SliceBackward0>)\n",
      " \n"
     ]
    }
   ],
   "source": [
    "def to_probability(A):\n",
    "    softmax = torch.nn.Softmax(dim=0)\n",
    "    return softmax(A)\n",
    "\n",
    "def predict(masked, i, top=5):\n",
    "    model_out = model(**masked[i])\n",
    "    logits = model_out[\"prediction_logits\"]\n",
    "\n",
    "    top_logits, top_tokens= torch.sort(logits, dim=2, descending=True)#[:,:,:top]\n",
    "    top_probs = to_probability(top_logits[0,i,:])\n",
    "    top_logits = top_logits[:,:,:top]\n",
    "    top_tokens = top_tokens[:,:,:top]\n",
    "    \n",
    "    print(\"Guesses:\",tokenizer.decode(top_tokens[0,i,:]))\n",
    "    print(\"Logits: \",top_logits[0,i,:])\n",
    "    print(\"Probs:  \",top_probs[:top])\n",
    "    print(\" \")\n",
    "    return top_tokens, top_probs[:top]\n",
    "\n",
    "\n",
    "for ind in range(len(masked)):\n",
    "    print(tokenizer.decode(masked[ind][\"input_ids\"][0]))\n",
    "    predict(masked,ind)"
   ]
  },
  {
   "cell_type": "markdown",
   "id": "db6b623f-7b3c-4d0c-b54e-22b5871478a3",
   "metadata": {},
   "source": [
    "## In the article...\n",
    "\n",
    "The probabilities are multiplied for multi-token words, with the beginning of the word unmasked."
   ]
  },
  {
   "cell_type": "code",
   "execution_count": 9,
   "id": "def50c4c-2de8-4a62-90ce-bb73b56ce14b",
   "metadata": {},
   "outputs": [
    {
     "name": "stdout",
     "output_type": "stream",
     "text": [
      "\n",
      "Other way:\n",
      "[0] [CLS] Heippa, mun nimi on Amanda ja harrastan pianon soittoa. Mulle voit soittaa 0442700995. [SEP]\n",
      "[1, 2] [CLS] Heippa, mun nimi on Amanda ja harrastan pianon soittoa. Mulle voit soittaa 0442700995. [SEP]\n",
      "[3] [CLS] Heippa, mun nimi on Amanda ja harrastan pianon soittoa. Mulle voit soittaa 0442700995. [SEP]\n",
      "[4] [CLS] Heippa, mun nimi on Amanda ja harrastan pianon soittoa. Mulle voit soittaa 0442700995. [SEP]\n",
      "[5] [CLS] Heippa, mun nimi on Amanda ja harrastan pianon soittoa. Mulle voit soittaa 0442700995. [SEP]\n",
      "[6] [CLS] Heippa, mun nimi on Amanda ja harrastan pianon soittoa. Mulle voit soittaa 0442700995. [SEP]\n",
      "[7, 8] [CLS] Heippa, mun nimi on Amanda ja harrastan pianon soittoa. Mulle voit soittaa 0442700995. [SEP]\n",
      "[9] [CLS] Heippa, mun nimi on Amanda ja harrastan pianon soittoa. Mulle voit soittaa 0442700995. [SEP]\n",
      "[10] [CLS] Heippa, mun nimi on Amanda ja harrastan pianon soittoa. Mulle voit soittaa 0442700995. [SEP]\n",
      "[11, 12] [CLS] Heippa, mun nimi on Amanda ja harrastan pianon soittoa. Mulle voit soittaa 0442700995. [SEP]\n",
      "[13] [CLS] Heippa, mun nimi on Amanda ja harrastan pianon soittoa. Mulle voit soittaa 0442700995. [SEP]\n",
      "[14] [CLS] Heippa, mun nimi on Amanda ja harrastan pianon soittoa. Mulle voit soittaa 0442700995. [SEP]\n",
      "[15] [CLS] Heippa, mun nimi on Amanda ja harrastan pianon soittoa. Mulle voit soittaa 0442700995. [SEP]\n",
      "[16] [CLS] Heippa, mun nimi on Amanda ja harrastan pianon soittoa. Mulle voit soittaa 0442700995. [SEP]\n",
      "[17] [CLS] Heippa, mun nimi on Amanda ja harrastan pianon soittoa. Mulle voit soittaa 0442700995. [SEP]\n",
      "[18, 19, 20, 21, 22] [CLS] Heippa, mun nimi on Amanda ja harrastan pianon soittoa. Mulle voit soittaa 0442700995. [SEP]\n",
      "[23] [CLS] Heippa, mun nimi on Amanda ja harrastan pianon soittoa. Mulle voit soittaa 0442700995. [SEP]\n",
      "[24] [CLS] Heippa, mun nimi on Amanda ja harrastan pianon soittoa. Mulle voit soittaa 0442700995. [SEP]\n",
      "--------------------------------------------------\n"
     ]
    }
   ],
   "source": [
    "# multiply the probablities \n",
    "import numpy as np\n",
    "\n",
    "\n",
    "\n",
    "def to_probability(A):\n",
    "    softmax = torch.nn.Softmax(dim=0)\n",
    "    return softmax(A)\n",
    "\n",
    "def predict(masked, top):\n",
    "    model_out = model(**masked)\n",
    "    logits = model_out[\"prediction_logits\"]\n",
    "\n",
    "    top_logits, top_tokens= torch.sort(logits, dim=2, descending=True)#[:,:,:top]\n",
    "    top_probs = to_probability(top_logits[0,i,:])\n",
    "    top_logits = top_logits[:,:,:top]\n",
    "    top_tokens = top_tokens[:,:,:top]\n",
    "\n",
    "    return top_tokens, top_probs[:top]\n",
    "\n",
    "\n",
    "def get_scores(tokens,indices, top=5):\n",
    "    for i in range(len(indices)):\n",
    "        t = copy.deepcopy(tokens)\n",
    "        current = indices[i:]\n",
    "        for j in current:\n",
    "            t[\"input_ids\"][0][j] = tokenizer.mask_token_id\n",
    "        predict(t,top)\n",
    "        \n",
    "\n",
    "\n",
    "def get_indices(t):\n",
    "    converted = tokenizer.convert_ids_to_tokens(t[\"input_ids\"][0])\n",
    "    indices=[]\n",
    "    for i in range(0, len(t[\"input_ids\"][0])):\n",
    "        if converted[i][:2] != continuation_marker:# and converted not in special_tokens:\n",
    "            indices.append([i])\n",
    "        else:\n",
    "            indices[-1].append(i)\n",
    "    return indices   \n",
    "\n",
    "\n",
    "print(\"\\nOther way:\")\n",
    "indices = get_indices(t)\n",
    "for i in indices:\n",
    "    print(i,tokenizer.decode(t[\"input_ids\"][0]))\n",
    "\n",
    "print(\"--------------------------------------------------\")\n",
    "\n",
    "\n",
    "\n",
    "    "
   ]
  },
  {
   "cell_type": "code",
   "execution_count": 10,
   "id": "6e4a44ef-9d2b-4710-88e7-9b382249f66e",
   "metadata": {},
   "outputs": [
    {
     "name": "stdout",
     "output_type": "stream",
     "text": [
      "tensor([[1.6701e-05, 1.0000e+00, 4.1399e-08, 9.8201e-01, 5.0000e-01],\n",
      "        [9.9998e-01, 7.7811e-20, 1.0000e+00, 1.7986e-02, 5.0000e-01]])\n"
     ]
    }
   ],
   "source": [
    "# note that this works differently for multiple dimensions\n",
    "\n",
    "a = torch.tensor([[11.,12.,-5.,9.,2.],[22.,-32.,12.,5.,2.]])\n",
    "b = to_probability(a)\n",
    "print(b)"
   ]
  },
  {
   "cell_type": "code",
   "execution_count": null,
   "id": "d4c19974-e21f-47fb-a313-67429404c818",
   "metadata": {},
   "outputs": [],
   "source": []
  }
 ],
 "metadata": {
  "kernelspec": {
   "display_name": "Python 3 (ipykernel)",
   "language": "python",
   "name": "python3"
  },
  "language_info": {
   "codemirror_mode": {
    "name": "ipython",
    "version": 3
   },
   "file_extension": ".py",
   "mimetype": "text/x-python",
   "name": "python",
   "nbconvert_exporter": "python",
   "pygments_lexer": "ipython3",
   "version": "3.9.16"
  }
 },
 "nbformat": 4,
 "nbformat_minor": 5
}
